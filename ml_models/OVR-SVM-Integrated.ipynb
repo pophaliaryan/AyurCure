{
 "cells": [
  {
   "cell_type": "markdown",
   "id": "3ed1d7d0",
   "metadata": {},
   "source": [
    "# Model Development"
   ]
  },
  {
   "cell_type": "code",
   "execution_count": 1,
   "id": "d99bb7ef",
   "metadata": {},
   "outputs": [],
   "source": [
    "import pandas as pd\n",
    "import numpy as np"
   ]
  },
  {
   "cell_type": "code",
   "execution_count": 2,
   "id": "cef7ac45",
   "metadata": {},
   "outputs": [
    {
     "data": {
      "text/html": [
       "<div>\n",
       "<style scoped>\n",
       "    .dataframe tbody tr th:only-of-type {\n",
       "        vertical-align: middle;\n",
       "    }\n",
       "\n",
       "    .dataframe tbody tr th {\n",
       "        vertical-align: top;\n",
       "    }\n",
       "\n",
       "    .dataframe thead th {\n",
       "        text-align: right;\n",
       "    }\n",
       "</style>\n",
       "<table border=\"1\" class=\"dataframe\">\n",
       "  <thead>\n",
       "    <tr style=\"text-align: right;\">\n",
       "      <th></th>\n",
       "      <th>itching</th>\n",
       "      <th>nodal_skin_eruptions</th>\n",
       "      <th>shivering</th>\n",
       "      <th>ulcers_on_tongue</th>\n",
       "      <th>burning_micturition</th>\n",
       "      <th>spotting_ urination</th>\n",
       "      <th>mood_swings</th>\n",
       "      <th>weight_loss</th>\n",
       "      <th>patches_in_throat</th>\n",
       "      <th>irregular_sugar_level</th>\n",
       "      <th>...</th>\n",
       "      <th>fluid_overload.1</th>\n",
       "      <th>prominent_veins_on_calf</th>\n",
       "      <th>blackheads</th>\n",
       "      <th>scurring</th>\n",
       "      <th>small_dents_in_nails</th>\n",
       "      <th>yellow_crust_ooze</th>\n",
       "      <th>prognosis</th>\n",
       "      <th>Formulation_1</th>\n",
       "      <th>Formualtion_2</th>\n",
       "      <th>Formualtion_3</th>\n",
       "    </tr>\n",
       "  </thead>\n",
       "  <tbody>\n",
       "    <tr>\n",
       "      <th>0</th>\n",
       "      <td>1</td>\n",
       "      <td>1</td>\n",
       "      <td>0</td>\n",
       "      <td>0</td>\n",
       "      <td>0</td>\n",
       "      <td>0</td>\n",
       "      <td>0</td>\n",
       "      <td>0</td>\n",
       "      <td>0</td>\n",
       "      <td>0</td>\n",
       "      <td>...</td>\n",
       "      <td>0</td>\n",
       "      <td>0</td>\n",
       "      <td>0</td>\n",
       "      <td>0</td>\n",
       "      <td>0</td>\n",
       "      <td>0</td>\n",
       "      <td>Fungal infection</td>\n",
       "      <td>Dashamula Kvatha Churna</td>\n",
       "      <td>Nimbadi churna</td>\n",
       "      <td>Karpuradi Taila</td>\n",
       "    </tr>\n",
       "    <tr>\n",
       "      <th>1</th>\n",
       "      <td>0</td>\n",
       "      <td>1</td>\n",
       "      <td>0</td>\n",
       "      <td>0</td>\n",
       "      <td>0</td>\n",
       "      <td>0</td>\n",
       "      <td>0</td>\n",
       "      <td>0</td>\n",
       "      <td>0</td>\n",
       "      <td>0</td>\n",
       "      <td>...</td>\n",
       "      <td>0</td>\n",
       "      <td>0</td>\n",
       "      <td>0</td>\n",
       "      <td>0</td>\n",
       "      <td>0</td>\n",
       "      <td>0</td>\n",
       "      <td>Fungal infection</td>\n",
       "      <td>Dashamula Kvatha Churna</td>\n",
       "      <td>Nimbadi churna</td>\n",
       "      <td>Karpuradi Taila</td>\n",
       "    </tr>\n",
       "    <tr>\n",
       "      <th>2</th>\n",
       "      <td>1</td>\n",
       "      <td>1</td>\n",
       "      <td>0</td>\n",
       "      <td>0</td>\n",
       "      <td>0</td>\n",
       "      <td>0</td>\n",
       "      <td>0</td>\n",
       "      <td>0</td>\n",
       "      <td>0</td>\n",
       "      <td>0</td>\n",
       "      <td>...</td>\n",
       "      <td>0</td>\n",
       "      <td>0</td>\n",
       "      <td>0</td>\n",
       "      <td>0</td>\n",
       "      <td>0</td>\n",
       "      <td>0</td>\n",
       "      <td>Fungal infection</td>\n",
       "      <td>Dashamula Kvatha Churna</td>\n",
       "      <td>Nimbadi churna</td>\n",
       "      <td>Karpuradi Taila</td>\n",
       "    </tr>\n",
       "    <tr>\n",
       "      <th>3</th>\n",
       "      <td>1</td>\n",
       "      <td>0</td>\n",
       "      <td>0</td>\n",
       "      <td>0</td>\n",
       "      <td>0</td>\n",
       "      <td>0</td>\n",
       "      <td>0</td>\n",
       "      <td>0</td>\n",
       "      <td>0</td>\n",
       "      <td>0</td>\n",
       "      <td>...</td>\n",
       "      <td>0</td>\n",
       "      <td>0</td>\n",
       "      <td>0</td>\n",
       "      <td>0</td>\n",
       "      <td>0</td>\n",
       "      <td>0</td>\n",
       "      <td>Fungal infection</td>\n",
       "      <td>Dashamula Kvatha Churna</td>\n",
       "      <td>Nimbadi churna</td>\n",
       "      <td>Karpuradi Taila</td>\n",
       "    </tr>\n",
       "    <tr>\n",
       "      <th>4</th>\n",
       "      <td>1</td>\n",
       "      <td>1</td>\n",
       "      <td>0</td>\n",
       "      <td>0</td>\n",
       "      <td>0</td>\n",
       "      <td>0</td>\n",
       "      <td>0</td>\n",
       "      <td>0</td>\n",
       "      <td>0</td>\n",
       "      <td>0</td>\n",
       "      <td>...</td>\n",
       "      <td>0</td>\n",
       "      <td>0</td>\n",
       "      <td>0</td>\n",
       "      <td>0</td>\n",
       "      <td>0</td>\n",
       "      <td>0</td>\n",
       "      <td>Fungal infection</td>\n",
       "      <td>Dashamula Kvatha Churna</td>\n",
       "      <td>Nimbadi churna</td>\n",
       "      <td>Karpuradi Taila</td>\n",
       "    </tr>\n",
       "  </tbody>\n",
       "</table>\n",
       "<p>5 rows × 53 columns</p>\n",
       "</div>"
      ],
      "text/plain": [
       "   itching  nodal_skin_eruptions  shivering  ulcers_on_tongue  \\\n",
       "0        1                     1          0                 0   \n",
       "1        0                     1          0                 0   \n",
       "2        1                     1          0                 0   \n",
       "3        1                     0          0                 0   \n",
       "4        1                     1          0                 0   \n",
       "\n",
       "   burning_micturition  spotting_ urination  mood_swings  weight_loss  \\\n",
       "0                    0                    0            0            0   \n",
       "1                    0                    0            0            0   \n",
       "2                    0                    0            0            0   \n",
       "3                    0                    0            0            0   \n",
       "4                    0                    0            0            0   \n",
       "\n",
       "   patches_in_throat  irregular_sugar_level  ...  fluid_overload.1  \\\n",
       "0                  0                      0  ...                 0   \n",
       "1                  0                      0  ...                 0   \n",
       "2                  0                      0  ...                 0   \n",
       "3                  0                      0  ...                 0   \n",
       "4                  0                      0  ...                 0   \n",
       "\n",
       "   prominent_veins_on_calf  blackheads  scurring  small_dents_in_nails  \\\n",
       "0                        0           0         0                     0   \n",
       "1                        0           0         0                     0   \n",
       "2                        0           0         0                     0   \n",
       "3                        0           0         0                     0   \n",
       "4                        0           0         0                     0   \n",
       "\n",
       "   yellow_crust_ooze         prognosis            Formulation_1  \\\n",
       "0                  0  Fungal infection  Dashamula Kvatha Churna   \n",
       "1                  0  Fungal infection  Dashamula Kvatha Churna   \n",
       "2                  0  Fungal infection  Dashamula Kvatha Churna   \n",
       "3                  0  Fungal infection  Dashamula Kvatha Churna   \n",
       "4                  0  Fungal infection  Dashamula Kvatha Churna   \n",
       "\n",
       "    Formualtion_2    Formualtion_3  \n",
       "0  Nimbadi churna  Karpuradi Taila  \n",
       "1  Nimbadi churna  Karpuradi Taila  \n",
       "2  Nimbadi churna  Karpuradi Taila  \n",
       "3  Nimbadi churna  Karpuradi Taila  \n",
       "4  Nimbadi churna  Karpuradi Taila  \n",
       "\n",
       "[5 rows x 53 columns]"
      ]
     },
     "execution_count": 2,
     "metadata": {},
     "output_type": "execute_result"
    }
   ],
   "source": [
    "data = pd.read_csv('feature_engineered_data-2 (2) 3.csv')\n",
    "data.head()"
   ]
  },
  {
   "cell_type": "code",
   "execution_count": 3,
   "id": "d8140394",
   "metadata": {},
   "outputs": [
    {
     "data": {
      "text/plain": [
       "53"
      ]
     },
     "execution_count": 3,
     "metadata": {},
     "output_type": "execute_result"
    }
   ],
   "source": [
    "len(data.isnull().sum())"
   ]
  },
  {
   "cell_type": "code",
   "execution_count": 4,
   "id": "a9b66557",
   "metadata": {},
   "outputs": [],
   "source": [
    "x = data.drop(columns=['prognosis', 'Formulation_1', 'Formualtion_2', 'Formualtion_3'])\n",
    "Y = data[['prognosis']]"
   ]
  },
  {
   "cell_type": "code",
   "execution_count": 5,
   "id": "c5e7cc83",
   "metadata": {},
   "outputs": [],
   "source": [
    "from sklearn.preprocessing import StandardScaler\n",
    "scaler = StandardScaler()\n",
    "x_transformed = scaler.fit_transform(x)\n",
    "x = pd.DataFrame(x_transformed)"
   ]
  },
  {
   "cell_type": "code",
   "execution_count": 6,
   "id": "603ff92c",
   "metadata": {},
   "outputs": [],
   "source": [
    "from sklearn.preprocessing import LabelEncoder\n",
    "encoder = LabelEncoder()\n",
    "y = pd.DataFrame()\n",
    "for col in Y.columns:\n",
    "    y_encoded = encoder.fit_transform(Y[col])\n",
    "    y[col] = y_encoded"
   ]
  },
  {
   "cell_type": "code",
   "execution_count": 7,
   "id": "2d186f88",
   "metadata": {},
   "outputs": [],
   "source": [
    "from sklearn.model_selection import train_test_split\n",
    "x_train, x_test, y_train, y_test = train_test_split(x, y, test_size=0.2, random_state=42)"
   ]
  },
  {
   "cell_type": "code",
   "execution_count": 8,
   "id": "da94a98a",
   "metadata": {},
   "outputs": [],
   "source": [
    "from sklearn.svm import SVC\n",
    "from sklearn.multiclass import OneVsRestClassifier\n",
    "classifier = SVC(kernel='linear', C=8.9, random_state=42)\n",
    "ovr_classifier = OneVsRestClassifier(classifier)\n",
    "ovr_classifier.fit(x_train, y_train)\n",
    "prediction = ovr_classifier.predict(x_test)"
   ]
  },
  {
   "cell_type": "markdown",
   "id": "15ca6b25",
   "metadata": {},
   "source": [
    "# Testing"
   ]
  },
  {
   "cell_type": "code",
   "execution_count": 9,
   "id": "2e6424c9",
   "metadata": {},
   "outputs": [
    {
     "data": {
      "text/plain": [
       "(42, 4)"
      ]
     },
     "execution_count": 9,
     "metadata": {},
     "output_type": "execute_result"
    }
   ],
   "source": [
    "df = data[['prognosis', 'Formulation_1', 'Formualtion_2', 'Formualtion_3']]\n",
    "df = df.drop_duplicates()\n",
    "df.shape"
   ]
  },
  {
   "cell_type": "code",
   "execution_count": 10,
   "id": "c67784c9",
   "metadata": {},
   "outputs": [
    {
     "data": {
      "text/html": [
       "<div>\n",
       "<style scoped>\n",
       "    .dataframe tbody tr th:only-of-type {\n",
       "        vertical-align: middle;\n",
       "    }\n",
       "\n",
       "    .dataframe tbody tr th {\n",
       "        vertical-align: top;\n",
       "    }\n",
       "\n",
       "    .dataframe thead th {\n",
       "        text-align: right;\n",
       "    }\n",
       "</style>\n",
       "<table border=\"1\" class=\"dataframe\">\n",
       "  <thead>\n",
       "    <tr style=\"text-align: right;\">\n",
       "      <th></th>\n",
       "      <th>Name of Medicine</th>\n",
       "      <th>Reference text</th>\n",
       "      <th>Dispensing Pack Size</th>\n",
       "      <th>Main Indications</th>\n",
       "      <th>Dose</th>\n",
       "      <th>Precaution/ Contraindication</th>\n",
       "      <th>Preferred use (OPD/ IPD)</th>\n",
       "      <th>Class</th>\n",
       "    </tr>\n",
       "  </thead>\n",
       "  <tbody>\n",
       "    <tr>\n",
       "      <th>0</th>\n",
       "      <td>Abhayarishta</td>\n",
       "      <td>AFI</td>\n",
       "      <td>200 ml</td>\n",
       "      <td>Arsha, Agnimandya,\\nUdararoga, Vibandha</td>\n",
       "      <td>12 - 24 ml</td>\n",
       "      <td>NS</td>\n",
       "      <td>Both</td>\n",
       "      <td>A</td>\n",
       "    </tr>\n",
       "    <tr>\n",
       "      <th>1</th>\n",
       "      <td>Amritarishta</td>\n",
       "      <td>AFI</td>\n",
       "      <td>200 ml</td>\n",
       "      <td>SarvaJvara, Jirna Jvara</td>\n",
       "      <td>12 - 24 ml</td>\n",
       "      <td>NS</td>\n",
       "      <td>Both</td>\n",
       "      <td>A</td>\n",
       "    </tr>\n",
       "    <tr>\n",
       "      <th>2</th>\n",
       "      <td>Aragvadharishta</td>\n",
       "      <td>AH</td>\n",
       "      <td>200ml</td>\n",
       "      <td>Kandu, Tvak Vikara,\\nVibandha</td>\n",
       "      <td>12 - 24 ml</td>\n",
       "      <td>NS</td>\n",
       "      <td>Both</td>\n",
       "      <td>A</td>\n",
       "    </tr>\n",
       "    <tr>\n",
       "      <th>3</th>\n",
       "      <td>Aravindasava</td>\n",
       "      <td>AFI</td>\n",
       "      <td>200 ml</td>\n",
       "      <td>Balaroga, Balakshaya,\\nAgnimandya, Aruchi</td>\n",
       "      <td>12 - 24 ml</td>\n",
       "      <td>NS</td>\n",
       "      <td>Both</td>\n",
       "      <td>A</td>\n",
       "    </tr>\n",
       "    <tr>\n",
       "      <th>4</th>\n",
       "      <td>Arjunarishta/ Parthadyarishta</td>\n",
       "      <td>AFI</td>\n",
       "      <td>200 ml</td>\n",
       "      <td>Hridroga, Hriddrava, Hrid- daurbalya, Moha,\\nM...</td>\n",
       "      <td>12 - 24 ml</td>\n",
       "      <td>NS</td>\n",
       "      <td>Both</td>\n",
       "      <td>A</td>\n",
       "    </tr>\n",
       "  </tbody>\n",
       "</table>\n",
       "</div>"
      ],
      "text/plain": [
       "                Name of Medicine Reference text Dispensing Pack Size  \\\n",
       "0                   Abhayarishta            AFI               200 ml   \n",
       "1                   Amritarishta            AFI               200 ml   \n",
       "2                Aragvadharishta             AH                200ml   \n",
       "3                   Aravindasava            AFI               200 ml   \n",
       "4  Arjunarishta/ Parthadyarishta            AFI               200 ml   \n",
       "\n",
       "                                    Main Indications        Dose  \\\n",
       "0            Arsha, Agnimandya,\\nUdararoga, Vibandha  12 - 24 ml   \n",
       "1                            SarvaJvara, Jirna Jvara  12 - 24 ml   \n",
       "2                      Kandu, Tvak Vikara,\\nVibandha  12 - 24 ml   \n",
       "3          Balaroga, Balakshaya,\\nAgnimandya, Aruchi  12 - 24 ml   \n",
       "4  Hridroga, Hriddrava, Hrid- daurbalya, Moha,\\nM...  12 - 24 ml   \n",
       "\n",
       "  Precaution/ Contraindication Preferred use (OPD/ IPD) Class  \n",
       "0                           NS                     Both     A  \n",
       "1                           NS                     Both     A  \n",
       "2                           NS                     Both     A  \n",
       "3                           NS                     Both     A  \n",
       "4                           NS                     Both     A  "
      ]
     },
     "execution_count": 10,
     "metadata": {},
     "output_type": "execute_result"
    }
   ],
   "source": [
    "df1 = pd.read_csv('Formulation-Indications (5).csv')\n",
    "df1.head()"
   ]
  },
  {
   "cell_type": "code",
   "execution_count": 11,
   "id": "16913296",
   "metadata": {},
   "outputs": [
    {
     "data": {
      "text/plain": [
       "Index(['Name of Medicine', 'Reference text', 'Dispensing Pack Size',\n",
       "       'Main Indications', 'Dose', 'Precaution/ Contraindication',\n",
       "       'Preferred use (OPD/ IPD)', 'Class'],\n",
       "      dtype='object')"
      ]
     },
     "execution_count": 11,
     "metadata": {},
     "output_type": "execute_result"
    }
   ],
   "source": [
    "df1.columns"
   ]
  },
  {
   "cell_type": "code",
   "execution_count": 43,
   "id": "3902c748",
   "metadata": {},
   "outputs": [
    {
     "data": {
      "text/html": [
       "<div>\n",
       "<style scoped>\n",
       "    .dataframe tbody tr th:only-of-type {\n",
       "        vertical-align: middle;\n",
       "    }\n",
       "\n",
       "    .dataframe tbody tr th {\n",
       "        vertical-align: top;\n",
       "    }\n",
       "\n",
       "    .dataframe thead th {\n",
       "        text-align: right;\n",
       "    }\n",
       "</style>\n",
       "<table border=\"1\" class=\"dataframe\">\n",
       "  <thead>\n",
       "    <tr style=\"text-align: right;\">\n",
       "      <th></th>\n",
       "      <th>itching</th>\n",
       "      <th>nodal_skin_eruptions</th>\n",
       "      <th>shivering</th>\n",
       "      <th>ulcers_on_tongue</th>\n",
       "      <th>burning_micturition</th>\n",
       "      <th>spotting_ urination</th>\n",
       "      <th>mood_swings</th>\n",
       "      <th>weight_loss</th>\n",
       "      <th>patches_in_throat</th>\n",
       "      <th>irregular_sugar_level</th>\n",
       "      <th>...</th>\n",
       "      <th>fluid_overload.1</th>\n",
       "      <th>prominent_veins_on_calf</th>\n",
       "      <th>blackheads</th>\n",
       "      <th>scurring</th>\n",
       "      <th>small_dents_in_nails</th>\n",
       "      <th>yellow_crust_ooze</th>\n",
       "      <th>prognosis</th>\n",
       "      <th>Formulation_1</th>\n",
       "      <th>Formualtion_2</th>\n",
       "      <th>Formualtion_3</th>\n",
       "    </tr>\n",
       "  </thead>\n",
       "  <tbody>\n",
       "    <tr>\n",
       "      <th>0</th>\n",
       "      <td>0</td>\n",
       "      <td>0</td>\n",
       "      <td>0</td>\n",
       "      <td>0</td>\n",
       "      <td>0</td>\n",
       "      <td>0</td>\n",
       "      <td>0</td>\n",
       "      <td>0</td>\n",
       "      <td>0</td>\n",
       "      <td>0</td>\n",
       "      <td>...</td>\n",
       "      <td>0</td>\n",
       "      <td>0</td>\n",
       "      <td>0</td>\n",
       "      <td>0</td>\n",
       "      <td>0</td>\n",
       "      <td>0</td>\n",
       "      <td>Migraine</td>\n",
       "      <td>Brahmi Ghrita</td>\n",
       "      <td>Dashamularishta</td>\n",
       "      <td>Shirahshuladi vajra Rasa</td>\n",
       "    </tr>\n",
       "  </tbody>\n",
       "</table>\n",
       "<p>1 rows × 53 columns</p>\n",
       "</div>"
      ],
      "text/plain": [
       "   itching  nodal_skin_eruptions  shivering  ulcers_on_tongue  \\\n",
       "0        0                     0          0                 0   \n",
       "\n",
       "   burning_micturition  spotting_ urination  mood_swings  weight_loss  \\\n",
       "0                    0                    0            0            0   \n",
       "\n",
       "   patches_in_throat  irregular_sugar_level  ...  fluid_overload.1  \\\n",
       "0                  0                      0  ...                 0   \n",
       "\n",
       "   prominent_veins_on_calf  blackheads  scurring  small_dents_in_nails  \\\n",
       "0                        0           0         0                     0   \n",
       "\n",
       "   yellow_crust_ooze  prognosis  Formulation_1    Formualtion_2  \\\n",
       "0                  0   Migraine  Brahmi Ghrita  Dashamularishta   \n",
       "\n",
       "              Formualtion_3  \n",
       "0  Shirahshuladi vajra Rasa  \n",
       "\n",
       "[1 rows x 53 columns]"
      ]
     },
     "execution_count": 43,
     "metadata": {},
     "output_type": "execute_result"
    }
   ],
   "source": [
    "df2 = pd.read_csv('Test102.csv')\n",
    "df2.head()"
   ]
  },
  {
   "cell_type": "code",
   "execution_count": 44,
   "id": "a6ca5a2d",
   "metadata": {},
   "outputs": [],
   "source": [
    "x_df2 = df2.drop(columns=['prognosis', 'Formulation_1', 'Formualtion_2', 'Formualtion_3'])"
   ]
  },
  {
   "cell_type": "code",
   "execution_count": 45,
   "id": "6f892a65",
   "metadata": {},
   "outputs": [
    {
     "name": "stderr",
     "output_type": "stream",
     "text": [
      "C:\\Users\\Aryan\\anaconda3\\lib\\site-packages\\sklearn\\base.py:413: UserWarning: X has feature names, but SVC was fitted without feature names\n",
      "  warnings.warn(\n",
      "C:\\Users\\Aryan\\anaconda3\\lib\\site-packages\\sklearn\\base.py:413: UserWarning: X has feature names, but SVC was fitted without feature names\n",
      "  warnings.warn(\n",
      "C:\\Users\\Aryan\\anaconda3\\lib\\site-packages\\sklearn\\base.py:413: UserWarning: X has feature names, but SVC was fitted without feature names\n",
      "  warnings.warn(\n",
      "C:\\Users\\Aryan\\anaconda3\\lib\\site-packages\\sklearn\\base.py:413: UserWarning: X has feature names, but SVC was fitted without feature names\n",
      "  warnings.warn(\n",
      "C:\\Users\\Aryan\\anaconda3\\lib\\site-packages\\sklearn\\base.py:413: UserWarning: X has feature names, but SVC was fitted without feature names\n",
      "  warnings.warn(\n",
      "C:\\Users\\Aryan\\anaconda3\\lib\\site-packages\\sklearn\\base.py:413: UserWarning: X has feature names, but SVC was fitted without feature names\n",
      "  warnings.warn(\n",
      "C:\\Users\\Aryan\\anaconda3\\lib\\site-packages\\sklearn\\base.py:413: UserWarning: X has feature names, but SVC was fitted without feature names\n",
      "  warnings.warn(\n",
      "C:\\Users\\Aryan\\anaconda3\\lib\\site-packages\\sklearn\\base.py:413: UserWarning: X has feature names, but SVC was fitted without feature names\n",
      "  warnings.warn(\n",
      "C:\\Users\\Aryan\\anaconda3\\lib\\site-packages\\sklearn\\base.py:413: UserWarning: X has feature names, but SVC was fitted without feature names\n",
      "  warnings.warn(\n",
      "C:\\Users\\Aryan\\anaconda3\\lib\\site-packages\\sklearn\\base.py:413: UserWarning: X has feature names, but SVC was fitted without feature names\n",
      "  warnings.warn(\n",
      "C:\\Users\\Aryan\\anaconda3\\lib\\site-packages\\sklearn\\base.py:413: UserWarning: X has feature names, but SVC was fitted without feature names\n",
      "  warnings.warn(\n",
      "C:\\Users\\Aryan\\anaconda3\\lib\\site-packages\\sklearn\\base.py:413: UserWarning: X has feature names, but SVC was fitted without feature names\n",
      "  warnings.warn(\n",
      "C:\\Users\\Aryan\\anaconda3\\lib\\site-packages\\sklearn\\base.py:413: UserWarning: X has feature names, but SVC was fitted without feature names\n",
      "  warnings.warn(\n",
      "C:\\Users\\Aryan\\anaconda3\\lib\\site-packages\\sklearn\\base.py:413: UserWarning: X has feature names, but SVC was fitted without feature names\n",
      "  warnings.warn(\n",
      "C:\\Users\\Aryan\\anaconda3\\lib\\site-packages\\sklearn\\base.py:413: UserWarning: X has feature names, but SVC was fitted without feature names\n",
      "  warnings.warn(\n",
      "C:\\Users\\Aryan\\anaconda3\\lib\\site-packages\\sklearn\\base.py:413: UserWarning: X has feature names, but SVC was fitted without feature names\n",
      "  warnings.warn(\n",
      "C:\\Users\\Aryan\\anaconda3\\lib\\site-packages\\sklearn\\base.py:413: UserWarning: X has feature names, but SVC was fitted without feature names\n",
      "  warnings.warn(\n",
      "C:\\Users\\Aryan\\anaconda3\\lib\\site-packages\\sklearn\\base.py:413: UserWarning: X has feature names, but SVC was fitted without feature names\n",
      "  warnings.warn(\n",
      "C:\\Users\\Aryan\\anaconda3\\lib\\site-packages\\sklearn\\base.py:413: UserWarning: X has feature names, but SVC was fitted without feature names\n",
      "  warnings.warn(\n",
      "C:\\Users\\Aryan\\anaconda3\\lib\\site-packages\\sklearn\\base.py:413: UserWarning: X has feature names, but SVC was fitted without feature names\n",
      "  warnings.warn(\n",
      "C:\\Users\\Aryan\\anaconda3\\lib\\site-packages\\sklearn\\base.py:413: UserWarning: X has feature names, but SVC was fitted without feature names\n",
      "  warnings.warn(\n",
      "C:\\Users\\Aryan\\anaconda3\\lib\\site-packages\\sklearn\\base.py:413: UserWarning: X has feature names, but SVC was fitted without feature names\n",
      "  warnings.warn(\n",
      "C:\\Users\\Aryan\\anaconda3\\lib\\site-packages\\sklearn\\base.py:413: UserWarning: X has feature names, but SVC was fitted without feature names\n",
      "  warnings.warn(\n",
      "C:\\Users\\Aryan\\anaconda3\\lib\\site-packages\\sklearn\\base.py:413: UserWarning: X has feature names, but SVC was fitted without feature names\n",
      "  warnings.warn(\n",
      "C:\\Users\\Aryan\\anaconda3\\lib\\site-packages\\sklearn\\base.py:413: UserWarning: X has feature names, but SVC was fitted without feature names\n",
      "  warnings.warn(\n",
      "C:\\Users\\Aryan\\anaconda3\\lib\\site-packages\\sklearn\\base.py:413: UserWarning: X has feature names, but SVC was fitted without feature names\n",
      "  warnings.warn(\n",
      "C:\\Users\\Aryan\\anaconda3\\lib\\site-packages\\sklearn\\base.py:413: UserWarning: X has feature names, but SVC was fitted without feature names\n",
      "  warnings.warn(\n",
      "C:\\Users\\Aryan\\anaconda3\\lib\\site-packages\\sklearn\\base.py:413: UserWarning: X has feature names, but SVC was fitted without feature names\n",
      "  warnings.warn(\n",
      "C:\\Users\\Aryan\\anaconda3\\lib\\site-packages\\sklearn\\base.py:413: UserWarning: X has feature names, but SVC was fitted without feature names\n",
      "  warnings.warn(\n",
      "C:\\Users\\Aryan\\anaconda3\\lib\\site-packages\\sklearn\\base.py:413: UserWarning: X has feature names, but SVC was fitted without feature names\n",
      "  warnings.warn(\n",
      "C:\\Users\\Aryan\\anaconda3\\lib\\site-packages\\sklearn\\base.py:413: UserWarning: X has feature names, but SVC was fitted without feature names\n",
      "  warnings.warn(\n",
      "C:\\Users\\Aryan\\anaconda3\\lib\\site-packages\\sklearn\\base.py:413: UserWarning: X has feature names, but SVC was fitted without feature names\n",
      "  warnings.warn(\n",
      "C:\\Users\\Aryan\\anaconda3\\lib\\site-packages\\sklearn\\base.py:413: UserWarning: X has feature names, but SVC was fitted without feature names\n",
      "  warnings.warn(\n",
      "C:\\Users\\Aryan\\anaconda3\\lib\\site-packages\\sklearn\\base.py:413: UserWarning: X has feature names, but SVC was fitted without feature names\n",
      "  warnings.warn(\n",
      "C:\\Users\\Aryan\\anaconda3\\lib\\site-packages\\sklearn\\base.py:413: UserWarning: X has feature names, but SVC was fitted without feature names\n",
      "  warnings.warn(\n",
      "C:\\Users\\Aryan\\anaconda3\\lib\\site-packages\\sklearn\\base.py:413: UserWarning: X has feature names, but SVC was fitted without feature names\n",
      "  warnings.warn(\n",
      "C:\\Users\\Aryan\\anaconda3\\lib\\site-packages\\sklearn\\base.py:413: UserWarning: X has feature names, but SVC was fitted without feature names\n",
      "  warnings.warn(\n",
      "C:\\Users\\Aryan\\anaconda3\\lib\\site-packages\\sklearn\\base.py:413: UserWarning: X has feature names, but SVC was fitted without feature names\n",
      "  warnings.warn(\n",
      "C:\\Users\\Aryan\\anaconda3\\lib\\site-packages\\sklearn\\base.py:413: UserWarning: X has feature names, but SVC was fitted without feature names\n",
      "  warnings.warn(\n",
      "C:\\Users\\Aryan\\anaconda3\\lib\\site-packages\\sklearn\\base.py:413: UserWarning: X has feature names, but SVC was fitted without feature names\n",
      "  warnings.warn(\n",
      "C:\\Users\\Aryan\\anaconda3\\lib\\site-packages\\sklearn\\base.py:413: UserWarning: X has feature names, but SVC was fitted without feature names\n",
      "  warnings.warn(\n"
     ]
    },
    {
     "data": {
      "text/plain": [
       "array([30])"
      ]
     },
     "execution_count": 45,
     "metadata": {},
     "output_type": "execute_result"
    }
   ],
   "source": [
    "prediction = ovr_classifier.predict(x_df2)\n",
    "prediction"
   ]
  },
  {
   "cell_type": "code",
   "execution_count": 46,
   "id": "f9ef214e",
   "metadata": {},
   "outputs": [
    {
     "data": {
      "text/plain": [
       "'Migraine'"
      ]
     },
     "execution_count": 46,
     "metadata": {},
     "output_type": "execute_result"
    }
   ],
   "source": [
    "prediction = encoder.inverse_transform(prediction)\n",
    "prediction = prediction[0]\n",
    "prediction"
   ]
  },
  {
   "cell_type": "code",
   "execution_count": 47,
   "id": "653b8e74",
   "metadata": {},
   "outputs": [],
   "source": [
    "for i in df['prognosis'].unique():\n",
    "    if i == prediction:\n",
    "        result = df[df['prognosis'] == prediction]"
   ]
  },
  {
   "cell_type": "code",
   "execution_count": 48,
   "id": "697b37a1",
   "metadata": {},
   "outputs": [
    {
     "data": {
      "text/plain": [
       "array(['Migraine', 'Brahmi Ghrita', 'Dashamularishta',\n",
       "       'Shirahshuladi vajra Rasa'], dtype=object)"
      ]
     },
     "execution_count": 48,
     "metadata": {},
     "output_type": "execute_result"
    }
   ],
   "source": [
    "result = result.iloc[0].values\n",
    "result"
   ]
  },
  {
   "cell_type": "code",
   "execution_count": 49,
   "id": "a66bca10",
   "metadata": {},
   "outputs": [],
   "source": [
    "matching_formulations = pd.DataFrame()\n",
    "for i in result:\n",
    "    for j in df1['Name of Medicine'].unique():\n",
    "        if j == i:\n",
    "            matching_formulations = pd.concat([matching_formulations, df1[df1['Name of Medicine'] == i]])"
   ]
  },
  {
   "cell_type": "code",
   "execution_count": 50,
   "id": "c0adb9a1",
   "metadata": {},
   "outputs": [],
   "source": [
    "def printData(match):\n",
    "    #print(\"Disease prognosed\", match['prognosis'].values)\n",
    "    print('Formulation suggested: ', match['Name of Medicine'])\n",
    "    print('Size of dispensing pack: ', match['Dispensing Pack Size'])\n",
    "    print('The main indications are: ', match['Main Indications'])\n",
    "    print('Dose size: ', match['Dose'])\n",
    "    print('Medicinal class: ', match['Class'])\n",
    "    print('-------------------------------------------------END----------------------------------------------------------------')"
   ]
  },
  {
   "cell_type": "code",
   "execution_count": 51,
   "id": "4570da0d",
   "metadata": {},
   "outputs": [
    {
     "name": "stdout",
     "output_type": "stream",
     "text": [
      "Formulation suggested:  Brahmi Ghrita\n",
      "Size of dispensing pack:  100 gm\n",
      "The main indications are:  Apasmara, Unmada, Smritikshaya,\n",
      "Budhidaurbalya\n",
      "Dose size:  10 - 15 gm\n",
      "Medicinal class:  F\n",
      "-------------------------------------------------END----------------------------------------------------------------\n",
      "Formulation suggested:  Dashamularishta\n",
      "Size of dispensing pack:  200 ml\n",
      "The main indications are:  Vata Vyadhi, Daurbalya,\n",
      "Prasavottara roga\n",
      "Dose size:  12 - 24 ml\n",
      "Medicinal class:  A\n",
      "-------------------------------------------------END----------------------------------------------------------------\n",
      "Formulation suggested:  Shirahshuladi vajra Rasa\n",
      "Size of dispensing pack:  5 gm\n",
      "The main indications are:  Shirahshula, Shiroroga\n",
      "Dose size:  250-500 mg\n",
      "in single or divided dose\n",
      "Medicinal class:  S\n",
      "-------------------------------------------------END----------------------------------------------------------------\n"
     ]
    },
    {
     "data": {
      "text/plain": [
       "73     None\n",
       "9      None\n",
       "194    None\n",
       "dtype: object"
      ]
     },
     "execution_count": 51,
     "metadata": {},
     "output_type": "execute_result"
    }
   ],
   "source": [
    "matching_formulations.apply(printData, axis=1)"
   ]
  },
  {
   "cell_type": "code",
   "execution_count": null,
   "id": "dab58b17",
   "metadata": {},
   "outputs": [],
   "source": []
  }
 ],
 "metadata": {
  "kernelspec": {
   "display_name": "Python 3 (ipykernel)",
   "language": "python",
   "name": "python3"
  },
  "language_info": {
   "codemirror_mode": {
    "name": "ipython",
    "version": 3
   },
   "file_extension": ".py",
   "mimetype": "text/x-python",
   "name": "python",
   "nbconvert_exporter": "python",
   "pygments_lexer": "ipython3",
   "version": "3.10.9"
  }
 },
 "nbformat": 4,
 "nbformat_minor": 5
}
