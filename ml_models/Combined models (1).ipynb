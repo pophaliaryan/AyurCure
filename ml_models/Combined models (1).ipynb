{
 "cells": [
  {
   "cell_type": "code",
   "execution_count": 1,
   "id": "5402d27b",
   "metadata": {},
   "outputs": [],
   "source": [
    "import pandas as pd\n",
    "import numpy as np"
   ]
  },
  {
   "cell_type": "code",
   "execution_count": 2,
   "id": "d1f2d7c9",
   "metadata": {},
   "outputs": [],
   "source": [
    "data = pd.read_csv('feature_engineered_data-2 (2) 3.csv')"
   ]
  },
  {
   "cell_type": "code",
   "execution_count": 3,
   "id": "5b41026a",
   "metadata": {},
   "outputs": [
    {
     "data": {
      "text/plain": [
       "Index(['itching', 'nodal_skin_eruptions', 'shivering', 'ulcers_on_tongue',\n",
       "       'burning_micturition', 'spotting_ urination', 'mood_swings',\n",
       "       'weight_loss', 'patches_in_throat', 'irregular_sugar_level',\n",
       "       'sunken_eyes', 'breathlessness', 'sweating', 'dehydration',\n",
       "       'dark_urine', 'nausea', 'back_pain', 'mild_fever', 'yellow_urine',\n",
       "       'acute_liver_failure', 'fluid_overload', 'swelled_lymph_nodes',\n",
       "       'weakness_in_limbs', 'irritation_in_anus', 'puffy_face_and_eyes',\n",
       "       'extra_marital_contacts', 'drying_and_tingling_lips', 'hip_joint_pain',\n",
       "       'movement_stiffness', 'spinning_movements', 'foul_smell_of urine',\n",
       "       'internal_itching', 'muscle_pain', 'altered_sensorium',\n",
       "       'red_spots_over_body', 'belly_pain', 'dischromic _patches',\n",
       "       'watering_from_eyes', 'family_history', 'mucoid_sputum', 'rusty_sputum',\n",
       "       'lack_of_concentration', 'visual_disturbances', 'fluid_overload.1',\n",
       "       'prominent_veins_on_calf', 'blackheads', 'scurring',\n",
       "       'small_dents_in_nails', 'yellow_crust_ooze', 'prognosis',\n",
       "       'Formulation_1', 'Formualtion_2', 'Formualtion_3'],\n",
       "      dtype='object')"
      ]
     },
     "execution_count": 3,
     "metadata": {},
     "output_type": "execute_result"
    }
   ],
   "source": [
    "data.columns"
   ]
  },
  {
   "cell_type": "code",
   "execution_count": 4,
   "id": "fa8b7a9b",
   "metadata": {},
   "outputs": [
    {
     "data": {
      "text/plain": [
       "array(['Fungal infection', 'Allergy', 'GERD', 'Chronic cholestasis',\n",
       "       'Drug Reaction', 'Peptic ulcer diseae', 'AIDS', 'Diabetes ',\n",
       "       'Gastroenteritis', 'Bronchial Asthma', 'Hypertension ', 'Migraine',\n",
       "       'Cervical spondylosis', 'Paralysis (brain hemorrhage)', 'Jaundice',\n",
       "       'Malaria', 'Chicken pox', 'Dengue', 'Typhoid', 'hepatitis A',\n",
       "       'Hepatitis B', 'Hepatitis C', 'Hepatitis D', 'Hepatitis E',\n",
       "       'Alcoholic hepatitis', 'Tuberculosis', 'Common Cold', 'Pneumonia',\n",
       "       'Dimorphic hemmorhoids(piles)', 'Heart attack', 'Varicose veins',\n",
       "       'Hypothyroidism', 'Hyperthyroidism', 'Hypoglycemia',\n",
       "       'Osteoarthristis', 'Arthritis',\n",
       "       '(vertigo) Paroymsal  Positional Vertigo', 'Acne',\n",
       "       'Urinary tract infection', 'Psoriasis', 'Impetigo'], dtype=object)"
      ]
     },
     "execution_count": 4,
     "metadata": {},
     "output_type": "execute_result"
    }
   ],
   "source": [
    "data['prognosis'].unique()"
   ]
  },
  {
   "cell_type": "code",
   "execution_count": 5,
   "id": "c27baa8a",
   "metadata": {},
   "outputs": [],
   "source": [
    "data['Formulation_1'].fillna('No formulation', inplace=True)"
   ]
  },
  {
   "cell_type": "code",
   "execution_count": 6,
   "id": "df459f27",
   "metadata": {},
   "outputs": [
    {
     "data": {
      "text/plain": [
       "itching                     0\n",
       "nodal_skin_eruptions        0\n",
       "shivering                   0\n",
       "ulcers_on_tongue            0\n",
       "burning_micturition         0\n",
       "spotting_ urination         0\n",
       "mood_swings                 0\n",
       "weight_loss                 0\n",
       "patches_in_throat           0\n",
       "irregular_sugar_level       0\n",
       "sunken_eyes                 0\n",
       "breathlessness              0\n",
       "sweating                    0\n",
       "dehydration                 0\n",
       "dark_urine                  0\n",
       "nausea                      0\n",
       "back_pain                   0\n",
       "mild_fever                  0\n",
       "yellow_urine                0\n",
       "acute_liver_failure         0\n",
       "fluid_overload              0\n",
       "swelled_lymph_nodes         0\n",
       "weakness_in_limbs           0\n",
       "irritation_in_anus          0\n",
       "puffy_face_and_eyes         0\n",
       "extra_marital_contacts      0\n",
       "drying_and_tingling_lips    0\n",
       "hip_joint_pain              0\n",
       "movement_stiffness          0\n",
       "spinning_movements          0\n",
       "foul_smell_of urine         0\n",
       "internal_itching            0\n",
       "muscle_pain                 0\n",
       "altered_sensorium           0\n",
       "red_spots_over_body         0\n",
       "belly_pain                  0\n",
       "dischromic _patches         0\n",
       "watering_from_eyes          0\n",
       "family_history              0\n",
       "mucoid_sputum               0\n",
       "rusty_sputum                0\n",
       "lack_of_concentration       0\n",
       "visual_disturbances         0\n",
       "fluid_overload.1            0\n",
       "prominent_veins_on_calf     0\n",
       "blackheads                  0\n",
       "scurring                    0\n",
       "small_dents_in_nails        0\n",
       "yellow_crust_ooze           0\n",
       "prognosis                   0\n",
       "Formulation_1               0\n",
       "Formualtion_2               0\n",
       "Formualtion_3               0\n",
       "dtype: int64"
      ]
     },
     "execution_count": 6,
     "metadata": {},
     "output_type": "execute_result"
    }
   ],
   "source": [
    "data.isnull().sum()"
   ]
  },
  {
   "cell_type": "code",
   "execution_count": 7,
   "id": "c13dfc04",
   "metadata": {},
   "outputs": [],
   "source": [
    "x = data.drop(columns = ['prognosis', 'Formulation_1', 'Formualtion_2', 'Formualtion_3'])\n",
    "Y = data.loc[:,['prognosis', 'Formulation_1', 'Formualtion_2', 'Formualtion_3']]"
   ]
  },
  {
   "cell_type": "code",
   "execution_count": 8,
   "id": "a62c30b3",
   "metadata": {},
   "outputs": [
    {
     "data": {
      "text/html": [
       "<div>\n",
       "<style scoped>\n",
       "    .dataframe tbody tr th:only-of-type {\n",
       "        vertical-align: middle;\n",
       "    }\n",
       "\n",
       "    .dataframe tbody tr th {\n",
       "        vertical-align: top;\n",
       "    }\n",
       "\n",
       "    .dataframe thead th {\n",
       "        text-align: right;\n",
       "    }\n",
       "</style>\n",
       "<table border=\"1\" class=\"dataframe\">\n",
       "  <thead>\n",
       "    <tr style=\"text-align: right;\">\n",
       "      <th></th>\n",
       "      <th>0</th>\n",
       "      <th>1</th>\n",
       "      <th>2</th>\n",
       "      <th>3</th>\n",
       "      <th>4</th>\n",
       "      <th>5</th>\n",
       "      <th>6</th>\n",
       "      <th>7</th>\n",
       "      <th>8</th>\n",
       "      <th>9</th>\n",
       "      <th>...</th>\n",
       "      <th>39</th>\n",
       "      <th>40</th>\n",
       "      <th>41</th>\n",
       "      <th>42</th>\n",
       "      <th>43</th>\n",
       "      <th>44</th>\n",
       "      <th>45</th>\n",
       "      <th>46</th>\n",
       "      <th>47</th>\n",
       "      <th>48</th>\n",
       "    </tr>\n",
       "  </thead>\n",
       "  <tbody>\n",
       "    <tr>\n",
       "      <th>0</th>\n",
       "      <td>2.501327</td>\n",
       "      <td>6.674995</td>\n",
       "      <td>-0.149813</td>\n",
       "      <td>-0.149813</td>\n",
       "      <td>-0.214286</td>\n",
       "      <td>-0.149813</td>\n",
       "      <td>-0.220439</td>\n",
       "      <td>-0.31961</td>\n",
       "      <td>-0.149813</td>\n",
       "      <td>-0.154014</td>\n",
       "      <td>...</td>\n",
       "      <td>-0.154014</td>\n",
       "      <td>-0.158114</td>\n",
       "      <td>-0.154014</td>\n",
       "      <td>-0.154014</td>\n",
       "      <td>-0.154014</td>\n",
       "      <td>-0.154014</td>\n",
       "      <td>-0.149813</td>\n",
       "      <td>-0.149813</td>\n",
       "      <td>-0.154014</td>\n",
       "      <td>-0.154014</td>\n",
       "    </tr>\n",
       "    <tr>\n",
       "      <th>1</th>\n",
       "      <td>-0.399788</td>\n",
       "      <td>6.674995</td>\n",
       "      <td>-0.149813</td>\n",
       "      <td>-0.149813</td>\n",
       "      <td>-0.214286</td>\n",
       "      <td>-0.149813</td>\n",
       "      <td>-0.220439</td>\n",
       "      <td>-0.31961</td>\n",
       "      <td>-0.149813</td>\n",
       "      <td>-0.154014</td>\n",
       "      <td>...</td>\n",
       "      <td>-0.154014</td>\n",
       "      <td>-0.158114</td>\n",
       "      <td>-0.154014</td>\n",
       "      <td>-0.154014</td>\n",
       "      <td>-0.154014</td>\n",
       "      <td>-0.154014</td>\n",
       "      <td>-0.149813</td>\n",
       "      <td>-0.149813</td>\n",
       "      <td>-0.154014</td>\n",
       "      <td>-0.154014</td>\n",
       "    </tr>\n",
       "    <tr>\n",
       "      <th>2</th>\n",
       "      <td>2.501327</td>\n",
       "      <td>6.674995</td>\n",
       "      <td>-0.149813</td>\n",
       "      <td>-0.149813</td>\n",
       "      <td>-0.214286</td>\n",
       "      <td>-0.149813</td>\n",
       "      <td>-0.220439</td>\n",
       "      <td>-0.31961</td>\n",
       "      <td>-0.149813</td>\n",
       "      <td>-0.154014</td>\n",
       "      <td>...</td>\n",
       "      <td>-0.154014</td>\n",
       "      <td>-0.158114</td>\n",
       "      <td>-0.154014</td>\n",
       "      <td>-0.154014</td>\n",
       "      <td>-0.154014</td>\n",
       "      <td>-0.154014</td>\n",
       "      <td>-0.149813</td>\n",
       "      <td>-0.149813</td>\n",
       "      <td>-0.154014</td>\n",
       "      <td>-0.154014</td>\n",
       "    </tr>\n",
       "    <tr>\n",
       "      <th>3</th>\n",
       "      <td>2.501327</td>\n",
       "      <td>-0.149813</td>\n",
       "      <td>-0.149813</td>\n",
       "      <td>-0.149813</td>\n",
       "      <td>-0.214286</td>\n",
       "      <td>-0.149813</td>\n",
       "      <td>-0.220439</td>\n",
       "      <td>-0.31961</td>\n",
       "      <td>-0.149813</td>\n",
       "      <td>-0.154014</td>\n",
       "      <td>...</td>\n",
       "      <td>-0.154014</td>\n",
       "      <td>-0.158114</td>\n",
       "      <td>-0.154014</td>\n",
       "      <td>-0.154014</td>\n",
       "      <td>-0.154014</td>\n",
       "      <td>-0.154014</td>\n",
       "      <td>-0.149813</td>\n",
       "      <td>-0.149813</td>\n",
       "      <td>-0.154014</td>\n",
       "      <td>-0.154014</td>\n",
       "    </tr>\n",
       "    <tr>\n",
       "      <th>4</th>\n",
       "      <td>2.501327</td>\n",
       "      <td>6.674995</td>\n",
       "      <td>-0.149813</td>\n",
       "      <td>-0.149813</td>\n",
       "      <td>-0.214286</td>\n",
       "      <td>-0.149813</td>\n",
       "      <td>-0.220439</td>\n",
       "      <td>-0.31961</td>\n",
       "      <td>-0.149813</td>\n",
       "      <td>-0.154014</td>\n",
       "      <td>...</td>\n",
       "      <td>-0.154014</td>\n",
       "      <td>-0.158114</td>\n",
       "      <td>-0.154014</td>\n",
       "      <td>-0.154014</td>\n",
       "      <td>-0.154014</td>\n",
       "      <td>-0.154014</td>\n",
       "      <td>-0.149813</td>\n",
       "      <td>-0.149813</td>\n",
       "      <td>-0.154014</td>\n",
       "      <td>-0.154014</td>\n",
       "    </tr>\n",
       "    <tr>\n",
       "      <th>...</th>\n",
       "      <td>...</td>\n",
       "      <td>...</td>\n",
       "      <td>...</td>\n",
       "      <td>...</td>\n",
       "      <td>...</td>\n",
       "      <td>...</td>\n",
       "      <td>...</td>\n",
       "      <td>...</td>\n",
       "      <td>...</td>\n",
       "      <td>...</td>\n",
       "      <td>...</td>\n",
       "      <td>...</td>\n",
       "      <td>...</td>\n",
       "      <td>...</td>\n",
       "      <td>...</td>\n",
       "      <td>...</td>\n",
       "      <td>...</td>\n",
       "      <td>...</td>\n",
       "      <td>...</td>\n",
       "      <td>...</td>\n",
       "      <td>...</td>\n",
       "    </tr>\n",
       "    <tr>\n",
       "      <th>4915</th>\n",
       "      <td>-0.399788</td>\n",
       "      <td>-0.149813</td>\n",
       "      <td>-0.149813</td>\n",
       "      <td>-0.149813</td>\n",
       "      <td>-0.214286</td>\n",
       "      <td>-0.149813</td>\n",
       "      <td>-0.220439</td>\n",
       "      <td>-0.31961</td>\n",
       "      <td>-0.149813</td>\n",
       "      <td>-0.154014</td>\n",
       "      <td>...</td>\n",
       "      <td>-0.154014</td>\n",
       "      <td>-0.158114</td>\n",
       "      <td>-0.154014</td>\n",
       "      <td>-0.154014</td>\n",
       "      <td>-0.154014</td>\n",
       "      <td>-0.154014</td>\n",
       "      <td>-0.149813</td>\n",
       "      <td>-0.149813</td>\n",
       "      <td>-0.154014</td>\n",
       "      <td>-0.154014</td>\n",
       "    </tr>\n",
       "    <tr>\n",
       "      <th>4916</th>\n",
       "      <td>-0.399788</td>\n",
       "      <td>-0.149813</td>\n",
       "      <td>-0.149813</td>\n",
       "      <td>-0.149813</td>\n",
       "      <td>-0.214286</td>\n",
       "      <td>-0.149813</td>\n",
       "      <td>-0.220439</td>\n",
       "      <td>-0.31961</td>\n",
       "      <td>-0.149813</td>\n",
       "      <td>-0.154014</td>\n",
       "      <td>...</td>\n",
       "      <td>-0.154014</td>\n",
       "      <td>-0.158114</td>\n",
       "      <td>-0.154014</td>\n",
       "      <td>-0.154014</td>\n",
       "      <td>-0.154014</td>\n",
       "      <td>-0.154014</td>\n",
       "      <td>6.674995</td>\n",
       "      <td>6.674995</td>\n",
       "      <td>-0.154014</td>\n",
       "      <td>-0.154014</td>\n",
       "    </tr>\n",
       "    <tr>\n",
       "      <th>4917</th>\n",
       "      <td>-0.399788</td>\n",
       "      <td>-0.149813</td>\n",
       "      <td>-0.149813</td>\n",
       "      <td>-0.149813</td>\n",
       "      <td>4.666667</td>\n",
       "      <td>-0.149813</td>\n",
       "      <td>-0.220439</td>\n",
       "      <td>-0.31961</td>\n",
       "      <td>-0.149813</td>\n",
       "      <td>-0.154014</td>\n",
       "      <td>...</td>\n",
       "      <td>-0.154014</td>\n",
       "      <td>-0.158114</td>\n",
       "      <td>-0.154014</td>\n",
       "      <td>-0.154014</td>\n",
       "      <td>-0.154014</td>\n",
       "      <td>-0.154014</td>\n",
       "      <td>-0.149813</td>\n",
       "      <td>-0.149813</td>\n",
       "      <td>-0.154014</td>\n",
       "      <td>-0.154014</td>\n",
       "    </tr>\n",
       "    <tr>\n",
       "      <th>4918</th>\n",
       "      <td>-0.399788</td>\n",
       "      <td>-0.149813</td>\n",
       "      <td>-0.149813</td>\n",
       "      <td>-0.149813</td>\n",
       "      <td>-0.214286</td>\n",
       "      <td>-0.149813</td>\n",
       "      <td>-0.220439</td>\n",
       "      <td>-0.31961</td>\n",
       "      <td>-0.149813</td>\n",
       "      <td>-0.154014</td>\n",
       "      <td>...</td>\n",
       "      <td>-0.154014</td>\n",
       "      <td>-0.158114</td>\n",
       "      <td>-0.154014</td>\n",
       "      <td>-0.154014</td>\n",
       "      <td>-0.154014</td>\n",
       "      <td>-0.154014</td>\n",
       "      <td>-0.149813</td>\n",
       "      <td>-0.149813</td>\n",
       "      <td>6.492911</td>\n",
       "      <td>-0.154014</td>\n",
       "    </tr>\n",
       "    <tr>\n",
       "      <th>4919</th>\n",
       "      <td>-0.399788</td>\n",
       "      <td>-0.149813</td>\n",
       "      <td>-0.149813</td>\n",
       "      <td>-0.149813</td>\n",
       "      <td>-0.214286</td>\n",
       "      <td>-0.149813</td>\n",
       "      <td>-0.220439</td>\n",
       "      <td>-0.31961</td>\n",
       "      <td>-0.149813</td>\n",
       "      <td>-0.154014</td>\n",
       "      <td>...</td>\n",
       "      <td>-0.154014</td>\n",
       "      <td>-0.158114</td>\n",
       "      <td>-0.154014</td>\n",
       "      <td>-0.154014</td>\n",
       "      <td>-0.154014</td>\n",
       "      <td>-0.154014</td>\n",
       "      <td>-0.149813</td>\n",
       "      <td>-0.149813</td>\n",
       "      <td>-0.154014</td>\n",
       "      <td>6.492911</td>\n",
       "    </tr>\n",
       "  </tbody>\n",
       "</table>\n",
       "<p>4920 rows × 49 columns</p>\n",
       "</div>"
      ],
      "text/plain": [
       "            0         1         2         3         4         5         6   \\\n",
       "0     2.501327  6.674995 -0.149813 -0.149813 -0.214286 -0.149813 -0.220439   \n",
       "1    -0.399788  6.674995 -0.149813 -0.149813 -0.214286 -0.149813 -0.220439   \n",
       "2     2.501327  6.674995 -0.149813 -0.149813 -0.214286 -0.149813 -0.220439   \n",
       "3     2.501327 -0.149813 -0.149813 -0.149813 -0.214286 -0.149813 -0.220439   \n",
       "4     2.501327  6.674995 -0.149813 -0.149813 -0.214286 -0.149813 -0.220439   \n",
       "...        ...       ...       ...       ...       ...       ...       ...   \n",
       "4915 -0.399788 -0.149813 -0.149813 -0.149813 -0.214286 -0.149813 -0.220439   \n",
       "4916 -0.399788 -0.149813 -0.149813 -0.149813 -0.214286 -0.149813 -0.220439   \n",
       "4917 -0.399788 -0.149813 -0.149813 -0.149813  4.666667 -0.149813 -0.220439   \n",
       "4918 -0.399788 -0.149813 -0.149813 -0.149813 -0.214286 -0.149813 -0.220439   \n",
       "4919 -0.399788 -0.149813 -0.149813 -0.149813 -0.214286 -0.149813 -0.220439   \n",
       "\n",
       "           7         8         9   ...        39        40        41  \\\n",
       "0    -0.31961 -0.149813 -0.154014  ... -0.154014 -0.158114 -0.154014   \n",
       "1    -0.31961 -0.149813 -0.154014  ... -0.154014 -0.158114 -0.154014   \n",
       "2    -0.31961 -0.149813 -0.154014  ... -0.154014 -0.158114 -0.154014   \n",
       "3    -0.31961 -0.149813 -0.154014  ... -0.154014 -0.158114 -0.154014   \n",
       "4    -0.31961 -0.149813 -0.154014  ... -0.154014 -0.158114 -0.154014   \n",
       "...       ...       ...       ...  ...       ...       ...       ...   \n",
       "4915 -0.31961 -0.149813 -0.154014  ... -0.154014 -0.158114 -0.154014   \n",
       "4916 -0.31961 -0.149813 -0.154014  ... -0.154014 -0.158114 -0.154014   \n",
       "4917 -0.31961 -0.149813 -0.154014  ... -0.154014 -0.158114 -0.154014   \n",
       "4918 -0.31961 -0.149813 -0.154014  ... -0.154014 -0.158114 -0.154014   \n",
       "4919 -0.31961 -0.149813 -0.154014  ... -0.154014 -0.158114 -0.154014   \n",
       "\n",
       "            42        43        44        45        46        47        48  \n",
       "0    -0.154014 -0.154014 -0.154014 -0.149813 -0.149813 -0.154014 -0.154014  \n",
       "1    -0.154014 -0.154014 -0.154014 -0.149813 -0.149813 -0.154014 -0.154014  \n",
       "2    -0.154014 -0.154014 -0.154014 -0.149813 -0.149813 -0.154014 -0.154014  \n",
       "3    -0.154014 -0.154014 -0.154014 -0.149813 -0.149813 -0.154014 -0.154014  \n",
       "4    -0.154014 -0.154014 -0.154014 -0.149813 -0.149813 -0.154014 -0.154014  \n",
       "...        ...       ...       ...       ...       ...       ...       ...  \n",
       "4915 -0.154014 -0.154014 -0.154014 -0.149813 -0.149813 -0.154014 -0.154014  \n",
       "4916 -0.154014 -0.154014 -0.154014  6.674995  6.674995 -0.154014 -0.154014  \n",
       "4917 -0.154014 -0.154014 -0.154014 -0.149813 -0.149813 -0.154014 -0.154014  \n",
       "4918 -0.154014 -0.154014 -0.154014 -0.149813 -0.149813  6.492911 -0.154014  \n",
       "4919 -0.154014 -0.154014 -0.154014 -0.149813 -0.149813 -0.154014  6.492911  \n",
       "\n",
       "[4920 rows x 49 columns]"
      ]
     },
     "execution_count": 8,
     "metadata": {},
     "output_type": "execute_result"
    }
   ],
   "source": [
    "#For logistic regression and SVM models\n",
    "from sklearn.preprocessing import StandardScaler\n",
    "scaler = StandardScaler()\n",
    "x_transformed = scaler.fit_transform(x)\n",
    "x_transformed = pd.DataFrame(x_transformed)\n",
    "x_transformed"
   ]
  },
  {
   "cell_type": "code",
   "execution_count": 9,
   "id": "1d4d726e",
   "metadata": {},
   "outputs": [
    {
     "data": {
      "text/html": [
       "<div>\n",
       "<style scoped>\n",
       "    .dataframe tbody tr th:only-of-type {\n",
       "        vertical-align: middle;\n",
       "    }\n",
       "\n",
       "    .dataframe tbody tr th {\n",
       "        vertical-align: top;\n",
       "    }\n",
       "\n",
       "    .dataframe thead th {\n",
       "        text-align: right;\n",
       "    }\n",
       "</style>\n",
       "<table border=\"1\" class=\"dataframe\">\n",
       "  <thead>\n",
       "    <tr style=\"text-align: right;\">\n",
       "      <th></th>\n",
       "      <th>0</th>\n",
       "    </tr>\n",
       "  </thead>\n",
       "  <tbody>\n",
       "    <tr>\n",
       "      <th>0</th>\n",
       "      <td>12</td>\n",
       "    </tr>\n",
       "    <tr>\n",
       "      <th>1</th>\n",
       "      <td>12</td>\n",
       "    </tr>\n",
       "    <tr>\n",
       "      <th>2</th>\n",
       "      <td>12</td>\n",
       "    </tr>\n",
       "    <tr>\n",
       "      <th>3</th>\n",
       "      <td>12</td>\n",
       "    </tr>\n",
       "    <tr>\n",
       "      <th>4</th>\n",
       "      <td>12</td>\n",
       "    </tr>\n",
       "  </tbody>\n",
       "</table>\n",
       "</div>"
      ],
      "text/plain": [
       "    0\n",
       "0  12\n",
       "1  12\n",
       "2  12\n",
       "3  12\n",
       "4  12"
      ]
     },
     "execution_count": 9,
     "metadata": {},
     "output_type": "execute_result"
    }
   ],
   "source": [
    "#For Logsitic regression, SVM and Bernoulli Naive Bayes models\n",
    "from sklearn.preprocessing import LabelEncoder\n",
    "encoder = LabelEncoder()\n",
    "for i in Y.columns:\n",
    "    encoder.fit(Y[i])\n",
    "    encoded = encoder.transform(Y[i])\n",
    "    y = pd.DataFrame(encoded)\n",
    "y.head()"
   ]
  },
  {
   "cell_type": "code",
   "execution_count": 10,
   "id": "22b654de",
   "metadata": {},
   "outputs": [],
   "source": [
    "#For Random forest model\n",
    "x1 = data.drop(columns = ['prognosis', 'Formulation_1', 'Formualtion_2', 'Formualtion_3'])\n",
    "y1 = data.loc[:,['prognosis']]"
   ]
  },
  {
   "cell_type": "code",
   "execution_count": 11,
   "id": "e5d705a7",
   "metadata": {},
   "outputs": [],
   "source": [
    "#For Logistic regression, SVM and Bernoulli Naive Bayes models\n",
    "from sklearn.model_selection import train_test_split\n",
    "x_train, x_test, y_train, y_test = train_test_split(x_transformed, y, test_size = 0.2, random_state = 42)"
   ]
  },
  {
   "cell_type": "code",
   "execution_count": 46,
   "id": "19b44c0f",
   "metadata": {},
   "outputs": [],
   "source": [
    "#For Random forest model\n",
    "from sklearn.model_selection import train_test_split\n",
    "x1_train, x1_test, y1_train, y1_test = train_test_split(x1, y, test_size = 0.2, random_state = 42)"
   ]
  },
  {
   "cell_type": "code",
   "execution_count": 13,
   "id": "ea4aff6f",
   "metadata": {},
   "outputs": [],
   "source": [
    "#Support Vector Machine (SVM) model\n",
    "from sklearn.svm import SVC\n",
    "from sklearn.multiclass import OneVsRestClassifier\n",
    "classifier = SVC(kernel = 'sigmoid', C = 8.9, random_state = 42)\n",
    "ovr_classifier = OneVsRestClassifier(classifier)\n",
    "ovr_classifier.fit(x_train, y_train)\n",
    "prediction_svm = ovr_classifier.predict(x_test)"
   ]
  },
  {
   "cell_type": "code",
   "execution_count": 14,
   "id": "51a7d236",
   "metadata": {},
   "outputs": [
    {
     "name": "stdout",
     "output_type": "stream",
     "text": [
      "0.9705284552845529 0.9824692631144244 0.968256456842876 0.9736432858834732\n"
     ]
    }
   ],
   "source": [
    "#Support Vector Machine (SVM) metrics\n",
    "from sklearn.metrics import precision_score, recall_score, f1_score\n",
    "score1 = ovr_classifier.score(x_test, y_test)\n",
    "precision1 = precision_score(y_test, prediction_svm, average = 'macro')\n",
    "recall1 = recall_score(y_test, prediction_svm, average = 'macro')\n",
    "f11 = f1_score(y_test, prediction_svm, average = 'macro')\n",
    "print(score1, precision1, recall1, f11)"
   ]
  },
  {
   "cell_type": "code",
   "execution_count": 15,
   "id": "538af3c3",
   "metadata": {},
   "outputs": [
    {
     "data": {
      "text/plain": [
       "(984, 1)"
      ]
     },
     "execution_count": 15,
     "metadata": {},
     "output_type": "execute_result"
    }
   ],
   "source": [
    "y1_test.shape"
   ]
  },
  {
   "cell_type": "code",
   "execution_count": 47,
   "id": "3334b295",
   "metadata": {},
   "outputs": [
    {
     "name": "stderr",
     "output_type": "stream",
     "text": [
      "C:\\Users\\Aryan\\AppData\\Local\\Temp\\ipykernel_7056\\2481532198.py:4: DataConversionWarning: A column-vector y was passed when a 1d array was expected. Please change the shape of y to (n_samples,), for example using ravel().\n",
      "  classifier.fit(x1_train, y1_train)\n"
     ]
    }
   ],
   "source": [
    "#Random Forest model\n",
    "from sklearn.ensemble import RandomForestClassifier\n",
    "classifier = RandomForestClassifier(random_state=42, n_estimators = 100, max_depth = 30, max_features = 'log2', max_samples = 0.8, min_samples_split = 2, min_samples_leaf = 1, criterion = 'gini', bootstrap=True )\n",
    "classifier.fit(x1_train, y1_train)\n",
    "prediction_rf = classifier.predict(x1_test)"
   ]
  },
  {
   "cell_type": "code",
   "execution_count": 48,
   "id": "c76d053a",
   "metadata": {},
   "outputs": [
    {
     "name": "stdout",
     "output_type": "stream",
     "text": [
      "0.975609756097561 0.9805510095144241 0.975609756097561 0.9763981438810532\n"
     ]
    }
   ],
   "source": [
    "#Random Forest metrics\n",
    "from sklearn.metrics import precision_score, recall_score, f1_score\n",
    "score2 = classifier.score(x1_test, y1_test)\n",
    "precision2 = precision_score(y1_test, prediction_rf, average = 'weighted')\n",
    "recall2 = recall_score(y1_test, prediction_rf, average = 'weighted')\n",
    "f12 = f1_score(y1_test, prediction_rf, average = 'weighted')\n",
    "print(score2, precision2, recall2, f12)"
   ]
  },
  {
   "cell_type": "code",
   "execution_count": 18,
   "id": "54d935bb",
   "metadata": {},
   "outputs": [
    {
     "name": "stderr",
     "output_type": "stream",
     "text": [
      "C:\\Users\\Aryan\\anaconda3\\lib\\site-packages\\sklearn\\utils\\validation.py:1143: DataConversionWarning: A column-vector y was passed when a 1d array was expected. Please change the shape of y to (n_samples, ), for example using ravel().\n",
      "  y = column_or_1d(y, warn=True)\n"
     ]
    }
   ],
   "source": [
    "#Logistic Regression model\n",
    "from sklearn.linear_model import LogisticRegression\n",
    "linear = LogisticRegression(max_iter = 1000)\n",
    "linear.fit(x_train, y_train)\n",
    "prediction_lr = linear.predict(x_test)"
   ]
  },
  {
   "cell_type": "code",
   "execution_count": 19,
   "id": "b9d87273",
   "metadata": {},
   "outputs": [
    {
     "name": "stdout",
     "output_type": "stream",
     "text": [
      "0.9766260162601627 0.9811811945958288 0.9766260162601627 0.9772788519848192\n"
     ]
    }
   ],
   "source": [
    "#Logistic Regression metrics\n",
    "from sklearn.metrics import precision_score, recall_score, f1_score\n",
    "score3 = linear.score(x_test, y_test)\n",
    "precision3 = precision_score(y_test, prediction_lr, average = 'weighted')\n",
    "recall3 = recall_score(y_test, prediction_lr, average = 'weighted')\n",
    "f13 = f1_score(y_test, prediction_lr, average = 'weighted')\n",
    "print(score3, precision3, recall3, f13)"
   ]
  },
  {
   "cell_type": "code",
   "execution_count": 20,
   "id": "5b25667a",
   "metadata": {},
   "outputs": [
    {
     "name": "stderr",
     "output_type": "stream",
     "text": [
      "C:\\Users\\Aryan\\anaconda3\\lib\\site-packages\\sklearn\\utils\\validation.py:1143: DataConversionWarning: A column-vector y was passed when a 1d array was expected. Please change the shape of y to (n_samples, ), for example using ravel().\n",
      "  y = column_or_1d(y, warn=True)\n",
      "C:\\Users\\Aryan\\anaconda3\\lib\\site-packages\\sklearn\\naive_bayes.py:629: FutureWarning: The default value for `force_alpha` will change to `True` in 1.4. To suppress this warning, manually set the value of `force_alpha`.\n",
      "  warnings.warn(\n",
      "C:\\Users\\Aryan\\anaconda3\\lib\\site-packages\\sklearn\\naive_bayes.py:635: UserWarning: alpha too small will result in numeric errors, setting alpha = 1.0e-10. Use `force_alpha=True` to keep alpha unchanged.\n",
      "  warnings.warn(\n"
     ]
    }
   ],
   "source": [
    "#Bernoulli Naive Bayes model\n",
    "from sklearn.naive_bayes import BernoulliNB\n",
    "bnb = BernoulliNB(alpha = 0.0, fit_prior = False)\n",
    "bnb.fit(x1_train, y_train)\n",
    "prediction_nb = bnb.predict(x1_test)"
   ]
  },
  {
   "cell_type": "code",
   "execution_count": 21,
   "id": "11eee2fc",
   "metadata": {},
   "outputs": [
    {
     "name": "stdout",
     "output_type": "stream",
     "text": [
      "0.9471544715447154 0.9613096569710258 0.9471544715447154 0.9495035364425652\n"
     ]
    }
   ],
   "source": [
    "#Bernoulli Naive Bayes metrics\n",
    "from sklearn.metrics import precision_score, recall_score, f1_score\n",
    "score4 = bnb.score(x1_test, y_test)\n",
    "precision4 = precision_score(y_test, prediction_nb, average = 'weighted')\n",
    "recall4 = recall_score(y_test, prediction_nb, average = 'weighted')\n",
    "f14 = f1_score(y_test, prediction_nb, average = 'weighted')\n",
    "print(score4, precision4, recall4, f14)"
   ]
  },
  {
   "cell_type": "code",
   "execution_count": 22,
   "id": "4afe41df",
   "metadata": {},
   "outputs": [],
   "source": [
    "results = {'Model':['B-Naive Bayes','Logistic Regression', 'Random Forest', 'OVR-SVM'],\n",
    "          'Accuracy':[score4, score3, score2, score1],\n",
    "          'Precision': [precision4, precision3, precision2, precision1], \n",
    "          'Recall':[recall4, recall3, recall2, recall1], \n",
    "          'F1-Score':[f14, f13, f12, f11]}"
   ]
  },
  {
   "cell_type": "code",
   "execution_count": 23,
   "id": "75ffcd8d",
   "metadata": {},
   "outputs": [],
   "source": [
    "data_results = pd.DataFrame(results)"
   ]
  },
  {
   "cell_type": "code",
   "execution_count": 27,
   "id": "09761285",
   "metadata": {},
   "outputs": [
    {
     "data": {
      "text/html": [
       "<div>\n",
       "<style scoped>\n",
       "    .dataframe tbody tr th:only-of-type {\n",
       "        vertical-align: middle;\n",
       "    }\n",
       "\n",
       "    .dataframe tbody tr th {\n",
       "        vertical-align: top;\n",
       "    }\n",
       "\n",
       "    .dataframe thead th {\n",
       "        text-align: right;\n",
       "    }\n",
       "</style>\n",
       "<table border=\"1\" class=\"dataframe\">\n",
       "  <thead>\n",
       "    <tr style=\"text-align: right;\">\n",
       "      <th></th>\n",
       "      <th>Model</th>\n",
       "      <th>Accuracy</th>\n",
       "      <th>Precision</th>\n",
       "      <th>Recall</th>\n",
       "      <th>F1-Score</th>\n",
       "    </tr>\n",
       "  </thead>\n",
       "  <tbody>\n",
       "    <tr>\n",
       "      <th>0</th>\n",
       "      <td>B-Naive Bayes</td>\n",
       "      <td>0.968496</td>\n",
       "      <td>0.975810</td>\n",
       "      <td>0.968496</td>\n",
       "      <td>0.969738</td>\n",
       "    </tr>\n",
       "    <tr>\n",
       "      <th>1</th>\n",
       "      <td>Logistic Regression</td>\n",
       "      <td>0.975610</td>\n",
       "      <td>0.982563</td>\n",
       "      <td>0.975610</td>\n",
       "      <td>0.977041</td>\n",
       "    </tr>\n",
       "    <tr>\n",
       "      <th>2</th>\n",
       "      <td>Random Forest</td>\n",
       "      <td>0.970528</td>\n",
       "      <td>0.982037</td>\n",
       "      <td>0.970528</td>\n",
       "      <td>0.973289</td>\n",
       "    </tr>\n",
       "    <tr>\n",
       "      <th>3</th>\n",
       "      <td>OVR-SVM</td>\n",
       "      <td>0.977642</td>\n",
       "      <td>0.985135</td>\n",
       "      <td>0.974354</td>\n",
       "      <td>0.977834</td>\n",
       "    </tr>\n",
       "  </tbody>\n",
       "</table>\n",
       "</div>"
      ],
      "text/plain": [
       "                 Model  Accuracy  Precision    Recall  F1-Score\n",
       "0        B-Naive Bayes  0.968496   0.975810  0.968496  0.969738\n",
       "1  Logistic Regression  0.975610   0.982563  0.975610  0.977041\n",
       "2        Random Forest  0.970528   0.982037  0.970528  0.973289\n",
       "3              OVR-SVM  0.977642   0.985135  0.974354  0.977834"
      ]
     },
     "execution_count": 27,
     "metadata": {},
     "output_type": "execute_result"
    }
   ],
   "source": [
    "data_results"
   ]
  },
  {
   "cell_type": "code",
   "execution_count": 50,
   "id": "48fad992",
   "metadata": {},
   "outputs": [
    {
     "data": {
      "image/png": "[encoded data removed]",
      "text/plain": [
       "<Figure size 800x600 with 2 Axes>"
      ]
     },
     "metadata": {},
     "output_type": "display_data"
    }
   ],
   "source": [
    "#Plot the Heatmap\n",
    "import seaborn as sns\n",
    "from sklearn.metrics import confusion_matrix\n",
    "cm = confusion_matrix(y1_test, prediction_rf)\n",
    "plt.figure(figsize=(8,6))\n",
    "sns.heatmap(cm, annot=True, fmt='d', cmap='coolwarm')\n",
    "plt.xlabel('Predicted Class')\n",
    "plt.ylabel('Actual class')\n",
    "plt.title('Confusion matrix Heatmap')\n",
    "plt.show()"
   ]
  },
  {
   "cell_type": "code",
   "execution_count": null,
   "id": "4207a9a8",
   "metadata": {},
   "outputs": [],
   "source": []
  }
 ],
 "metadata": {
  "kernelspec": {
   "display_name": "Python 3 (ipykernel)",
   "language": "python",
   "name": "python3"
  },
  "language_info": {
   "codemirror_mode": {
    "name": "ipython",
    "version": 3
   },
   "file_extension": ".py",
   "mimetype": "text/x-python",
   "name": "python",
   "nbconvert_exporter": "python",
   "pygments_lexer": "ipython3",
   "version": "3.10.9"
  }
 },
 "nbformat": 4,
 "nbformat_minor": 5
}
